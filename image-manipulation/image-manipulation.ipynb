{
 "cells": [
  {
   "cell_type": "markdown",
   "metadata": {},
   "source": [
    "# Introduction to Image Manipulation in Python"
   ]
  },
  {
   "cell_type": "code",
   "execution_count": 2,
   "metadata": {},
   "outputs": [],
   "source": [
    "import os\n",
    "from PIL import Image\n",
    "import numpy as np\n",
    "import matplotlib.pyplot as plt"
   ]
  },
  {
   "cell_type": "code",
   "execution_count": 5,
   "metadata": {},
   "outputs": [
    {
     "name": "stdout",
     "output_type": "stream",
     "text": [
      "hammershoi_interior.jpg\n",
      "kroyer_sommeraften.jpg\n",
      "vangogh_starry_night.jpg\n",
      "vangogh_wheat_field.jpg\n"
     ]
    }
   ],
   "source": [
    "# file management\n",
    "datpath = (\"dataset\")\n",
    "fnames = os.listdir(datpath)\n",
    "fnames.sort()\n",
    "\n",
    "# show image ailes\n",
    "for fname  in fnames:\n",
    "    print(fname)\n",
    "    fname = os.path.join(datpath, fname)\n",
    "    # open image file\n",
    "    img = Image.open(fname)\n",
    "    img.show()"
   ]
  },
  {
   "cell_type": "code",
   "execution_count": 11,
   "metadata": {},
   "outputs": [],
   "source": [
    "fname = os.path.join(datpath, fnames[0])\n",
    "img = Image.open(fname)"
   ]
  },
  {
   "cell_type": "code",
   "execution_count": 7,
   "metadata": {},
   "outputs": [
    {
     "name": "stdout",
     "output_type": "stream",
     "text": [
      "[[ 11  48  59 ...  57  85  70]\n",
      " [ 29  56  61 ... 104 119  86]\n",
      " [ 51  63  61 ... 100 104  66]\n",
      " ...\n",
      " [  6   6  12 ...  46  42  66]\n",
      " [  6   6  12 ...  49  39  59]\n",
      " [  6   6  12 ...  51  40  56]]\n",
      "(908, 1000)\n"
     ]
    }
   ],
   "source": [
    "# show underlying matrix\n",
    "M = np.asarray(img.convert('L'))\n",
    "print(M)\n",
    "print(M.shape)\n",
    "np.savetxt(\"image-matrix.txt\", M)"
   ]
  },
  {
   "cell_type": "markdown",
   "metadata": {},
   "source": [
    "## Retrieve image size\n",
    "Image.size gives a 2-tuple and the width, height can be obtained"
   ]
  },
  {
   "cell_type": "code",
   "execution_count": 8,
   "metadata": {},
   "outputs": [
    {
     "name": "stdout",
     "output_type": "stream",
     "text": [
      "hammershoi_interior.jpg has dimensions w: 1000 and h: 908\n"
     ]
    }
   ],
   "source": [
    "with Image.open(fname) as fobj:\n",
    "    width, height = fobj.size\n",
    "\n",
    "print(\n",
    "    \"{} has dimensions w: {} and h: {}\".format(\n",
    "        os.path.basename(fname), width, height\n",
    "        )\n",
    "    )"
   ]
  },
  {
   "cell_type": "markdown",
   "metadata": {},
   "source": [
    "## Rotate image"
   ]
  },
  {
   "cell_type": "code",
   "execution_count": 9,
   "metadata": {},
   "outputs": [],
   "source": [
    "img = Image.open(fname)\n",
    "# Angle given\n",
    "img = img.rotate(180)\n",
    "\n",
    "# Saved in the same relative location\n",
    "img.save(\"rotated_image.jpg\")\n"
   ]
  },
  {
   "cell_type": "markdown",
   "metadata": {},
   "source": [
    "## CROPPING AN IMAGE\n",
    "Cropping an Image: Image.crop(box) takes a 4-tuple (left, upper, right,\n",
    "lower) pixel coordinate, and returns a rectangular region from the used image."
   ]
  },
  {
   "cell_type": "code",
   "execution_count": 12,
   "metadata": {},
   "outputs": [],
   "source": [
    "img = Image.open(fname)\n",
    "width, height = img.size\n",
    "area = (0, 0, width/2, height/2)\n",
    "img = img.crop(area)\n",
    "# Saved in the same relative location\n",
    "img.save(\"cropped_picture.jpg\")\n",
    "img.show()"
   ]
  },
  {
   "cell_type": "markdown",
   "metadata": {},
   "source": [
    "## Resizing an Image\n",
    "Image.resize(size)- Here size is provided as a 2-tuple width and height."
   ]
  },
  {
   "cell_type": "code",
   "execution_count": 13,
   "metadata": {},
   "outputs": [
    {
     "name": "stdout",
     "output_type": "stream",
     "text": [
      "(500, 454)\n"
     ]
    }
   ],
   "source": [
    "img = Image.open(fname)\n",
    "width, height = img.size\n",
    "img = img.resize((int(width/2), int(height/2)))\n",
    "print(img.size)\n",
    "# Saved in the same relative location\n",
    "img.save(\"resized_picture.jpg\")\n",
    "img.show()"
   ]
  },
  {
   "cell_type": "markdown",
   "metadata": {},
   "source": [
    "## Introduction to Image Retrieval: Color Histogram\n",
    "\n",
    "Getting a Histogram of an Image: This will return a histogram of the image as a list of pixel counts,\n",
    "one for each pixel in the image. (A histogram of an image is a graphical representation of the tonal distribution in a digital image. It contains what all the brightness values contained in an image are.\n",
    "It plots the number of pixels for each brightness value."
   ]
  },
  {
   "cell_type": "code",
   "execution_count": 15,
   "metadata": {},
   "outputs": [
    {
     "data": {
      "image/png": "[encoded data removed]",
      "text/plain": [
       "<Figure size 648x216 with 3 Axes>"
      ]
     },
     "metadata": {},
     "output_type": "display_data"
    }
   ],
   "source": [
    "def chunks(l, n):\n",
    "    \"\"\"Yield successive n-sized chunks from l.\"\"\"\n",
    "    for i in range(0, len(l), n):\n",
    "        yield l[i:i + n]\n",
    "\n",
    "img = Image.open(fname)\n",
    "# Getting histogram of image\n",
    "X = img.histogram()\n",
    "\n",
    "        \n",
    "RGB = list(chunks(X, int(len(X)/3)))\n",
    "color = [\"r\", \"g\", \"b\"]\n",
    "fig, axs = plt.subplots(1,3, figsize=(9, 3), facecolor='w', edgecolor='k')\n",
    "for i, x in enumerate(RGB):\n",
    "    axs[i].bar(range(256), x, alpha=.5, color=color[i])\n",
    "    axs[i].set_title(color[i].upper())\n",
    "\n",
    "plt.show()\n",
    "img.show()"
   ]
  }
 ],
 "metadata": {
  "kernelspec": {
   "display_name": "ca",
   "language": "python",
   "name": "ca"
  },
  "language_info": {
   "codemirror_mode": {
    "name": "ipython",
    "version": 3
   },
   "file_extension": ".py",
   "mimetype": "text/x-python",
   "name": "python",
   "nbconvert_exporter": "python",
   "pygments_lexer": "ipython3",
   "version": "3.5.2"
  }
 },
 "nbformat": 4,
 "nbformat_minor": 2
}
